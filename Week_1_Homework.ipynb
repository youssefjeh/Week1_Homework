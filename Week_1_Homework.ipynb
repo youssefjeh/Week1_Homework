{
  "nbformat": 4,
  "nbformat_minor": 0,
  "metadata": {
    "colab": {
      "name": "Week 1 - Homework.ipynb",
      "provenance": []
    },
    "kernelspec": {
      "name": "python3",
      "display_name": "Python 3"
    },
    "language_info": {
      "name": "python"
    }
  },
  "cells": [
    {
      "cell_type": "markdown",
      "source": [
        "1- une fonction qui calcule les diviseurs d'un entier"
      ],
      "metadata": {
        "id": "AX3ngg4GJd9U"
      }
    },
    {
      "cell_type": "code",
      "execution_count": 4,
      "metadata": {
        "id": "cNAH_B9TIR3k"
      },
      "outputs": [],
      "source": [
        "def Div_De(n):\n",
        "    diviseurs=[];\n",
        "    for i in range(1, n + 1):\n",
        "        if n % i == 0:\n",
        "            diviseurs.append(i)\n",
        "    return diviseurs"
      ]
    },
    {
      "cell_type": "markdown",
      "source": [
        "2- une fonction qui calcul le PGCD de deux entier"
      ],
      "metadata": {
        "id": "QZzigUfiJiMq"
      }
    },
    {
      "cell_type": "code",
      "source": [
        "import math\n",
        "def pgcdOf(x,y):\n",
        "  return math.gcd(x,y)"
      ],
      "metadata": {
        "id": "G1KO9C_iJf_u"
      },
      "execution_count": 6,
      "outputs": []
    },
    {
      "cell_type": "markdown",
      "source": [
        "Ou bien"
      ],
      "metadata": {
        "id": "xf1yvSKYNGyX"
      }
    },
    {
      "cell_type": "code",
      "source": [
        "def pgcd_Of(a, b): \n",
        "    if(b == 0): \n",
        "        return a \n",
        "    else: \n",
        "        return pgcd_Of(b, a % b) "
      ],
      "metadata": {
        "colab": {
          "base_uri": "https://localhost:8080/"
        },
        "id": "pmxyPX-0NKE_",
        "outputId": "e89b6fa7-ca32-45bf-e8e5-f4ecc3b3fe06"
      },
      "execution_count": 9,
      "outputs": [
        {
          "output_type": "execute_result",
          "data": {
            "text/plain": [
              "12"
            ]
          },
          "metadata": {},
          "execution_count": 9
        }
      ]
    }
  ]
}