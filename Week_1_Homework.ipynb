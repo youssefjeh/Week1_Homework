{
  "nbformat": 4,
  "nbformat_minor": 0,
  "metadata": {
    "colab": {
      "name": "Week 1 - Homework.ipynb",
      "provenance": []
    },
    "kernelspec": {
      "name": "python3",
      "display_name": "Python 3"
    },
    "language_info": {
      "name": "python"
    }
  },
  "cells": [
    {
      "cell_type": "markdown",
      "source": [
        "1- une fonction qui calcule les diviseurs d'un entier"
      ],
      "metadata": {
        "id": "AX3ngg4GJd9U"
      }
    },
    {
      "cell_type": "code",
      "execution_count": 4,
      "metadata": {
        "id": "cNAH_B9TIR3k"
      },
      "outputs": [],
      "source": [
        "def Div_De(n):\n",
        "    diviseurs=[];\n",
        "    for i in range(1, n + 1):\n",
        "        if n % i == 0:\n",
        "            diviseurs.append(i)\n",
        "    return diviseurs"
      ]
    },
    {
      "cell_type": "markdown",
      "source": [
        "2- une fonction qui calcul le PGCD de deux entier"
      ],
      "metadata": {
        "id": "QZzigUfiJiMq"
      }
    },
    {
      "cell_type": "code",
      "source": [
        "import math\n",
        "def pgcdOf(x,y):\n",
        "  return math.gcd(x,y)"
      ],
      "metadata": {
        "colab": {
          "base_uri": "https://localhost:8080/"
        },
        "id": "G1KO9C_iJf_u",
        "outputId": "a3c4ca54-dade-42c2-c90e-744e7986f0ce"
      },
      "execution_count": 5,
      "outputs": [
        {
          "output_type": "execute_result",
          "data": {
            "text/plain": [
              "12"
            ]
          },
          "metadata": {},
          "execution_count": 5
        }
      ]
    }
  ]
}